{
 "cells": [
  {
   "cell_type": "markdown",
   "metadata": {},
   "source": [
    "Applied Machine Learning - Assignment 1\n",
    "\n",
    "Student Name: Kamlesh Narsinghani\n",
    "\n",
    "Student No: R00183522"
   ]
  },
  {
   "cell_type": "markdown",
   "metadata": {},
   "source": [
    "## Imports"
   ]
  },
  {
   "cell_type": "code",
   "execution_count": 1,
   "metadata": {},
   "outputs": [],
   "source": [
    "import glob\n",
    "import pandas as pd\n",
    "import re\n",
    "import matplotlib.pyplot as plt\n",
    "plt.rcdefaults\n",
    "import numpy as np\n",
    "from nltk.corpus import stopwords\n",
    "from sklearn import svm\n",
    "from sklearn.feature_extraction.text import TfidfTransformer,TfidfVectorizer\n",
    "from sklearn.naive_bayes import MultinomialNB\n",
    "from sklearn.metrics import accuracy_score,roc_curve,r2_score,confusion_matrix,explained_variance_score,roc_auc_score,roc_curve\n",
    "from sklearn.metrics import  multilabel_confusion_matrix,accuracy_score,max_error,mean_absolute_error,mean_squared_error\n",
    "from sklearn.model_selection import train_test_split,GridSearchCV,KFold,cross_val_score,cross_val_predict\n",
    "from sklearn.tree import DecisionTreeClassifier\n",
    "from sklearn.ensemble import RandomForestClassifier\n",
    "import seaborn as sns\n",
    "import pickle\n",
    "import nltk\n",
    "from sklearn.utils import resample"
   ]
  },
  {
   "cell_type": "markdown",
   "metadata": {},
   "source": [
    "1. glob: For retrieving files/pathnames which matches a specified pattern\n",
    "2. pandas: For data analysis and manipulation\n",
    "3. re: Used for removing or replacing special and unwanted characters from string which are meaningless behind it such as \"<\", \";\", \"?\" etc.\n",
    "4. time: Time to keep track of the execution times of the program\n",
    "5. Matplotlib: For Data Visualisation\n",
    "6. numpy: To perform scientific computing and design the object while plotting the graph\n",
    "7. stopwords: For removing words which does not add much meaning to a sentence \n",
    "8. seaborn: For Data Visualisation\n",
    "9. pickle:  For saving the model to the disk\n",
    "10. sklearn: For performing all the machine learning related operation and for predictive data analysis (Used modules - feature_extraction, naive_bayes, metrics, model_selection, tree, ensemble, etc.)\n",
    "11. nltk: Used for Natural Language Processing with Python"
   ]
  },
  {
   "cell_type": "markdown",
   "metadata": {},
   "source": [
    "## Reading data file and converting to dataframe"
   ]
  },
  {
   "cell_type": "code",
   "execution_count": 2,
   "metadata": {},
   "outputs": [],
   "source": [
    "def readDataFiles(path,value):\n",
    "    files=glob.glob(path)\n",
    "    list_files=[]\n",
    "    for file_path in files:\n",
    "        with open(file_path,encoding=\"Latin-1\") as file:\n",
    "            list_files.append(file.read())\n",
    "    dataFrameFiles=pd.DataFrame(list_files,columns=[\"Emails\"])\n",
    "    dataFrameFiles[\"Target\"]=value\n",
    "    return dataFrameFiles"
   ]
  },
  {
   "cell_type": "markdown",
   "metadata": {},
   "source": [
    "params path: Stores the folder loaction of ham or spam file\n",
    "\n",
    "params value: Stores the value for target variable i.e 0 from ham emails and 1 for spam emails\n",
    "\n",
    "return Return the dataframe conatining data from these files in Emails column"
   ]
  },
  {
   "cell_type": "markdown",
   "metadata": {},
   "source": [
    "## Cleaning dataframe"
   ]
  },
  {
   "cell_type": "code",
   "execution_count": 3,
   "metadata": {},
   "outputs": [],
   "source": [
    "def cleanString(dataFrame):\n",
    "    dataFrame[\"Emails\"] = dataFrame[\"Emails\"].map(lambda x:re.sub(r'[^a-zA-Z\\s]', \"\", x))\n",
    "    dataFrame[\"Emails\"] = dataFrame[\"Emails\"].map(lambda x:re.sub(r'\\s+',\" \", x))\n",
    "    dataFrame[\"Emails\"] = dataFrame[\"Emails\"].map(lambda x:re.sub(r'\\n',\"\", x))\n",
    "    dataFrame[\"Emails\"] = dataFrame[\"Emails\"].map(lambda x:re.sub(r'[Ss]ubject',\"\", x))\n",
    "    return dataFrame"
   ]
  },
  {
   "cell_type": "markdown",
   "metadata": {},
   "source": [
    "Cleans the string i.e removing special and unwanted characters such as @, -, ,:, ;, ?, <, >,numbers,extra spaces, etc"
   ]
  },
  {
   "cell_type": "markdown",
   "metadata": {},
   "source": [
    "## Removing small words"
   ]
  },
  {
   "cell_type": "code",
   "execution_count": 4,
   "metadata": {},
   "outputs": [],
   "source": [
    "def removeOneTwoCharWords(dataFrame):\n",
    "    dataFrame.dropna()\n",
    "    dataFrame.drop_duplicates(inplace = True)\n",
    "    dataFrame['Emails']=dataFrame['Emails'].map(lambda x: ' '.join(word for word in x.split() if len(word)>2))\n",
    "    return dataFrame"
   ]
  },
  {
   "cell_type": "markdown",
   "metadata": {},
   "source": [
    "Removing words which are of one or two charaters length as these words are mostly conjuction words"
   ]
  },
  {
   "cell_type": "markdown",
   "metadata": {},
   "source": [
    "## Lemmatizing Text"
   ]
  },
  {
   "cell_type": "code",
   "execution_count": 5,
   "metadata": {},
   "outputs": [],
   "source": [
    "def lemmatizeText(Emails):\n",
    "    w_tokenizer = nltk.tokenize.WhitespaceTokenizer()\n",
    "    lemmatizer = nltk.stem.WordNetLemmatizer()\n",
    "    return (' '.join(lemmatizer.lemmatize(w) for w in w_tokenizer.tokenize(Emails)))"
   ]
  },
  {
   "cell_type": "markdown",
   "metadata": {},
   "source": [
    "Replacing common words have same meaning by there root word, i.e. differing words have same meaning and which have a common root word. Example: 'walk', 'walked', 'walks', \"to walk\" or 'walking' can be replaced by root words \"walk\""
   ]
  },
  {
   "cell_type": "markdown",
   "metadata": {},
   "source": [
    "## Stopword Removal"
   ]
  },
  {
   "cell_type": "code",
   "execution_count": 6,
   "metadata": {},
   "outputs": [],
   "source": [
    "def stopWordRemoval(dataFrame):\n",
    "    stop = stopwords.words('english')\n",
    "    dataFrame['Emails'] = dataFrame['Emails'].apply(lambda x: ' '.join([word for word in x.split() if word not in (stop)]))\n",
    "    return dataFrame"
   ]
  },
  {
   "cell_type": "markdown",
   "metadata": {},
   "source": [
    "Removing words which does not add much meaning to a sentence. Example: 'the', 'a', 'an', 'in' "
   ]
  },
  {
   "cell_type": "markdown",
   "metadata": {},
   "source": [
    "## Splitting in testing and training dataset"
   ]
  },
  {
   "cell_type": "code",
   "execution_count": 7,
   "metadata": {},
   "outputs": [],
   "source": [
    "def splitTestTrain(dataFrame):\n",
    "    yData=dataFrame.Target\n",
    "    xData=dataFrame.drop(\"Target\",axis=1)\n",
    "    xData_Train,xData_Test,yData_Train,yData_Test=train_test_split(xData,yData,test_size=0.3,random_state=522)\n",
    "    return xData_Train,xData_Test,yData_Train,yData_Test"
   ]
  },
  {
   "cell_type": "markdown",
   "metadata": {},
   "source": [
    "Split the given dataset in two different dataset i.e. training and testing in 70/30 ration. Training dataset will contains 70% and of 30% of actual dataset."
   ]
  },
  {
   "cell_type": "markdown",
   "metadata": {},
   "source": [
    "## Upsampling Dataset"
   ]
  },
  {
   "cell_type": "code",
   "execution_count": 8,
   "metadata": {},
   "outputs": [],
   "source": [
    "def upSampling(hamData,spamData):\n",
    "    if len(spamData)!=len(hamData):\n",
    "        if len(hamData)>len(spamData):\n",
    "            # upsample minority\n",
    "            spamSampledData = resample(spamData, replace=True, n_samples=len(hamData), random_state=522)\n",
    "            sampledData = pd.concat([hamData, spamSampledData])\n",
    "        else:\n",
    "            # upsample minority\n",
    "            hamSampledData = resample(hamData, replace=True, n_samples=len(spamData), random_state=522)\n",
    "            sampledData = pd.concat([spamData, hamSampledData])\n",
    "    return sampledData"
   ]
  },
  {
   "cell_type": "markdown",
   "metadata": {},
   "source": [
    "The primary objective of this function is to upsample the imbalanced dataset to remove any bias in data\n",
    "Resample is used to balance the dataset, and function returns balanced dataset\n",
    "From line 2-3 we are comparing length of dataset to find the shortest dataset to upsample. In line 5 and 9 we are resampling small dataset to match row count of large dataset and finally in line 6 and 10 we are concatenating both datasets to form single balanced dataset"
   ]
  },
  {
   "cell_type": "markdown",
   "metadata": {},
   "source": [
    "## Getting Top 20 words"
   ]
  },
  {
   "cell_type": "code",
   "execution_count": 9,
   "metadata": {},
   "outputs": [],
   "source": [
    "def top20FrequentWords(dataFrame,category,target):\n",
    "    data = dataFrame[dataFrame.Target==target]\n",
    "    vectorizerTf = TfidfVectorizer() # Initialisation or create the transform\n",
    "    XData_Train=vectorizerTf.fit_transform(data[\"Emails\"])\n",
    "    topWords=pd.DataFrame(list(vectorizerTf.vocabulary_.items())[:20],columns=(\"Word\",\"Count\")).sort_values('Count',ascending=True)\n",
    "    plt.figure(figsize=(15,5))\n",
    "    plt.barh(\"Word\", \"Count\", data = topWords, color = \"blue\")\n",
    "    plt.title('Top-20 most frequently used words in '+category+' emails ')\n",
    "    plt.xlabel('Frequency')\n",
    "    plt.ylabel('Words')\n",
    "    for i, v in enumerate(topWords[\"Count\"]):\n",
    "        plt.text(v , i-0.3, str(v), color='black')\n",
    "    plt.show()"
   ]
  },
  {
   "cell_type": "markdown",
   "metadata": {},
   "source": [
    "The primary objective of this function is to find the top-20 most frequently used words in spam and non-spam emails and show their relative frequencies using bar plot"
   ]
  },
  {
   "cell_type": "markdown",
   "metadata": {},
   "source": [
    "## Emails Length"
   ]
  },
  {
   "cell_type": "code",
   "execution_count": 10,
   "metadata": {},
   "outputs": [],
   "source": [
    "def emailLength(dataFrame):\n",
    "    dataFrame[\"EmailsLength\"]=dataFrame[\"Emails\"].apply(len)\n",
    "    dataFrame=dataFrame.sort_values('EmailsLength',ascending=False)\n",
    "    plt.figure(figsize=(5,6))\n",
    "    ax=sns.boxplot(x=\"Target\", y=\"EmailsLength\", data=dataFrame)\n",
    "    plt.show()"
   ]
  },
  {
   "cell_type": "markdown",
   "metadata": {},
   "source": [
    "The primary objective of this function is to compare the distribution of email lengths in spam and non spam emails using box plot."
   ]
  },
  {
   "cell_type": "markdown",
   "metadata": {},
   "source": [
    "## Histogram - Distribution of emails length"
   ]
  },
  {
   "cell_type": "code",
   "execution_count": 11,
   "metadata": {},
   "outputs": [],
   "source": [
    "def histEmailLength(dataFrame):\n",
    "    plt.subplot(1, 2, 1)\n",
    "    plt.hist(x=\"EmailsLength\", bins=1000, color='#0504aa',alpha=0.7, rwidth=0.85,data=dataFrame[dataFrame.Target==0])\n",
    "    plt.xlabel('Ham Email Lengths')\n",
    "    plt.ylabel('Frequency')\n",
    "    plt.title('Ham Emails')\n",
    "    plt.subplot(1, 2, 2)\n",
    "    plt.hist(x=\"EmailsLength\", bins=1000, color='#0504aa',alpha=0.7, rwidth=0.85,data=dataFrame[dataFrame.Target==1])\n",
    "    plt.xlabel('Spam Email Lengths')\n",
    "    plt.title('Spam Emails')\n",
    "    plt.show()"
   ]
  },
  {
   "cell_type": "markdown",
   "metadata": {},
   "source": [
    "Shows distribution of email length for spam and ham emails"
   ]
  },
  {
   "cell_type": "markdown",
   "metadata": {},
   "source": [
    "## Dump model to pickle"
   ]
  },
  {
   "cell_type": "code",
   "execution_count": 12,
   "metadata": {},
   "outputs": [],
   "source": [
    "def dumpModelToPickle(model):\n",
    "    modelPickled=pickle.dumps(model)\n",
    "    return modelPickled"
   ]
  },
  {
   "cell_type": "markdown",
   "metadata": {},
   "source": [
    "pickle module is used to save the model to the disk and which can be loaded in future and used to perform operation"
   ]
  },
  {
   "cell_type": "markdown",
   "metadata": {},
   "source": [
    "## Calculate Model Accuracy"
   ]
  },
  {
   "cell_type": "code",
   "execution_count": 13,
   "metadata": {},
   "outputs": [],
   "source": [
    "def calculateAccuracy(model,XData_Test_tfidf,yData_Test):\n",
    "    pickledModel = pickle.loads(model)\n",
    "    predicted = pickledModel.predict(XData_Test_tfidf)\n",
    "    accuracy=accuracy_score(predicted,yData_Test)\n",
    "    return accuracy,predicted"
   ]
  },
  {
   "cell_type": "markdown",
   "metadata": {},
   "source": [
    "The primary objective of this function is to find the model accuracy based on predicted values.\n",
    "\n",
    "params model: fitted model\n",
    "\n",
    "params XData_Test_tfidf: tfidf vectorised predicter test dataset\n",
    "\n",
    "params yData_Test: target variable test dataset\n",
    "\n",
    "return Returns test dataset accurancy and predicted values"
   ]
  },
  {
   "cell_type": "markdown",
   "metadata": {},
   "source": [
    "## Train Model"
   ]
  },
  {
   "cell_type": "code",
   "execution_count": 14,
   "metadata": {},
   "outputs": [],
   "source": [
    "def trainModel(model,XData_Train, yData_Train):\n",
    "    modelTrained = model.fit(XData_Train, yData_Train)\n",
    "    modelPickled = dumpModelToPickle(modelTrained)\n",
    "    return modelPickled"
   ]
  },
  {
   "cell_type": "markdown",
   "metadata": {},
   "source": [
    "The primary objective of this function is to train/fit the model and dump it using pickle.\n",
    "\n",
    "params model: machine learning model or machine learning algorithm to be used eg. SVC, Navie Bayes, Decision Tree, etc.\n",
    "\n",
    "params XData_Train: tfidf vectorised predicter train dataset\n",
    "\n",
    "params yData_Train: train dataset - target variable \n",
    "\n",
    "return Returns dumped model"
   ]
  },
  {
   "cell_type": "markdown",
   "metadata": {},
   "source": [
    "## Cross validation for Multinomial Naive Bayes"
   ]
  },
  {
   "cell_type": "code",
   "execution_count": 15,
   "metadata": {},
   "outputs": [],
   "source": [
    "def crossValidationMNB(model,vectorizerTf,xDataFull,yDataFull,k):\n",
    "    pickledMNB = pickle.loads(model)\n",
    "    XData_Full_countsTf=vectorizerTf.fit_transform(xDataFull[\"Emails\"])\n",
    "    scores = cross_val_score(pickledMNB, XData_Full_countsTf, yDataFull, cv=k)\n",
    "    predictions = cross_val_predict(pickledMNB, XData_Full_countsTf, yDataFull, cv=k)\n",
    "    accuracy = r2_score(yDataFull, predictions)\n",
    "    return scores,predictions,accuracy"
   ]
  },
  {
   "cell_type": "markdown",
   "metadata": {},
   "source": [
    "The primary objective of this function is to perform cross validation based on fold value and calculate cross validation score and predicted values and accuracy.\n",
    "\n",
    "params model: fitted model\n",
    "\n",
    "params vectorizerTf: Tfidf Vectorizer\n",
    "\n",
    "params xDataFull: predicter dataset\n",
    "\n",
    "params yDataFull: target variable dataset\n",
    "\n",
    "params k: number of times cross validation to be performed i.e. K folds cv\n",
    "\n",
    "return Returns cross validation score, predicted values and final accuracy"
   ]
  },
  {
   "cell_type": "markdown",
   "metadata": {},
   "source": [
    "## Tune Model"
   ]
  },
  {
   "cell_type": "code",
   "execution_count": 16,
   "metadata": {},
   "outputs": [],
   "source": [
    "def tunedModel(model,tunedParameter,XData_Train,yData_Train,XData_Test,yData_Test):\n",
    "    tunedModel=GridSearchCV(model,tunedParameter)\n",
    "    tunedModel.fit(XData_Train, yData_Train)\n",
    "    predicted = tunedModel.predict(XData_Test)\n",
    "    accuracy = accuracy_score(predicted,yData_Test)\n",
    "    return tunedModel.best_params_,accuracy,predicted"
   ]
  },
  {
   "cell_type": "markdown",
   "metadata": {},
   "source": [
    "Main objective is to tune the model to find the best accuracy based on different tuning parametrs using GridSearchCV.\n",
    "\n",
    "params model: machine learning model or machine learning algorithm to be used eg. SVC, Navie Bayes, Decision Tree, etc.\n",
    "\n",
    "params tunedParameter: tuning parameters\n",
    "\n",
    "params XData_Train: Train dataset - predictor variable\n",
    "\n",
    "params yData_Train: Train dataset - target variable\n",
    "\n",
    "params XData_Test: Test dataset - predictor variable\n",
    "\n",
    "params yData_Test: Train dataset - target variable\n",
    "\n",
    "return Returns tuned model best parameters, best accuracy and predicted values"
   ]
  },
  {
   "cell_type": "markdown",
   "metadata": {},
   "source": [
    "## Main function : all together"
   ]
  },
  {
   "cell_type": "code",
   "execution_count": 17,
   "metadata": {},
   "outputs": [
    {
     "name": "stdout",
     "output_type": "stream",
     "text": [
      "count ham and spam mails\n",
      "\n",
      "--------------------------- Original Dataset ---------------------------\n",
      "Total number of spam emails in training dataset = 1012\n",
      "Total number of ham emails in training dataset = 2237\n",
      "Total number of spam emails in test dataset = 449\n",
      "Total number of ham emails in test dataset = 944\n",
      "\n",
      "--------------------------- Before balancing ---------------------------\n",
      "Total number of spam emails in training dataset before balancing= 1012\n",
      "Total number of ham emails in training dataset before balancing= 2237\n",
      "\n",
      "--------------------------- After balancing ---------------------------\n",
      "Total number of spam emails in training dataset before balancing= 2237\n",
      "Total number of ham emails in training dataset before balancing= 2237\n"
     ]
    },
    {
     "data": {
      "image/png": "[encoded data removed]",
      "text/plain": [
       "<Figure size 1080x360 with 1 Axes>"
      ]
     },
     "metadata": {
      "needs_background": "light"
     },
     "output_type": "display_data"
    },
    {
     "name": "stdout",
     "output_type": "stream",
     "text": [
      "Above bar plot shows top-20 most frequently used words in non-spam i.e. ham emails and show their relative frequencies. “Sure” having the highest occurring frequency of 10136, “still” being the second highest with frequency 9934 and “ask” being the lowest from the top 20 having occurring frequency of 602.\n",
      "The word Julie has occurred 15684 times and which is one of the top 20 most frequent word and it represent some person’s name.\n",
      "Most of the words which are there in top 20 are words having relation to office, work, which pass useful information not like vague text used for promotion, marketing, etc.\n",
      "\n"
     ]
    },
    {
     "data": {
      "image/png": "[encoded data removed]",
      "text/plain": [
       "<Figure size 1080x360 with 1 Axes>"
      ]
     },
     "metadata": {
      "needs_background": "light"
     },
     "output_type": "display_data"
    },
    {
     "name": "stdout",
     "output_type": "stream",
     "text": [
      "Above bar plot shows top-20 most frequently used words in spam emails and show their relative frequencies. “voucher” having the highest occurring frequency of 24024, “tropical” being the second highest with frequency 22957 and “accept” being the lowest from the top 20 having occurring frequency of 141.\n",
      "Most of the words which are there in top 20 words are vague words mostly used for used for promotion, marketing, travel, etc. such as voucher, travel, reply, gift, package, opted, holiday, etc \n",
      "\n"
     ]
    },
    {
     "data": {
      "image/png": "[encoded data removed]",
      "text/plain": [
       "<Figure size 360x432 with 1 Axes>"
      ]
     },
     "metadata": {
      "needs_background": "light"
     },
     "output_type": "display_data"
    },
    {
     "name": "stdout",
     "output_type": "stream",
     "text": [
      "Above box plot shows distribution if email length for ham and spam. Median length for both the type of mails is approximately same and is around 300 to 400 words.\n",
      "There are lot of outliers in both the cases, for ham number of mails count have greater than 3300 words start reducing and for spam its around 4200 words.\n",
      "\n"
     ]
    },
    {
     "data": {
      "image/png": "[encoded data removed]",
      "text/plain": [
       "<Figure size 432x288 with 2 Axes>"
      ]
     },
     "metadata": {
      "needs_background": "light"
     },
     "output_type": "display_data"
    },
    {
     "name": "stdout",
     "output_type": "stream",
     "text": [
      "Above histogram shows distribution of ham and spam mails based on email lengths, there are more number of ham mails with less word count as compared to spam mails.\n",
      "But, there is not significant difference between the two, so we cannot state a baseline for the same.\n",
      "\n",
      "\n",
      "-------- Calculated metrics from crossvalidated MultinomialNB() model --------\n",
      "Confusion matrix describe the performance of a classification model on set of unseen data\n",
      "Different rates can be calculated with Confusion matrix\n",
      "[[2173   64]\n",
      " [  29 2208]]\n",
      "True Positive Rate(TPR) for Crossvalidation MultinomialNB() = 0.9870362092087618\n",
      "False Positive Rate(FPR) for Crossvalidation MultinomialNB() = 0.028609745194456863\n",
      "Accuracy for Crossvalidation MultinomialNB() model = 0.9792132320071525\n",
      "Maximum residual error for Crossvalidation MultinomialNB() model = 1\n",
      "Mean absolute error for Crossvalidation MultinomialNB() model = 0.020786767992847562\n",
      "Root Mean squared/out of sample error error for Crossvalidation MultinomialNB() model = 0.020786767992847562\n"
     ]
    },
    {
     "name": "stderr",
     "output_type": "stream",
     "text": [
      "C:\\Users\\35389.LAPTOP-3QHIVNN4\\Anaconda3\\lib\\site-packages\\sklearn\\model_selection\\_split.py:1978: FutureWarning: The default value of cv will change from 3 to 5 in version 0.22. Specify it explicitly to silence this warning.\n",
      "  warnings.warn(CV_WARNING, FutureWarning)\n",
      "C:\\Users\\35389.LAPTOP-3QHIVNN4\\Anaconda3\\lib\\site-packages\\sklearn\\svm\\base.py:193: FutureWarning: The default value of gamma will change from 'auto' to 'scale' in version 0.22 to account better for unscaled features. Set gamma explicitly to 'auto' or 'scale' to avoid this warning.\n",
      "  \"avoid this warning.\", FutureWarning)\n",
      "C:\\Users\\35389.LAPTOP-3QHIVNN4\\Anaconda3\\lib\\site-packages\\sklearn\\model_selection\\_split.py:1978: FutureWarning: The default value of cv will change from 3 to 5 in version 0.22. Specify it explicitly to silence this warning.\n",
      "  warnings.warn(CV_WARNING, FutureWarning)\n",
      "C:\\Users\\35389.LAPTOP-3QHIVNN4\\Anaconda3\\lib\\site-packages\\sklearn\\model_selection\\_split.py:1978: FutureWarning: The default value of cv will change from 3 to 5 in version 0.22. Specify it explicitly to silence this warning.\n",
      "  warnings.warn(CV_WARNING, FutureWarning)\n",
      "C:\\Users\\35389.LAPTOP-3QHIVNN4\\Anaconda3\\lib\\site-packages\\sklearn\\ensemble\\forest.py:245: FutureWarning: The default value of n_estimators will change from 10 in version 0.20 to 100 in 0.22.\n",
      "  \"10 in version 0.20 to 100 in 0.22.\", FutureWarning)\n",
      "C:\\Users\\35389.LAPTOP-3QHIVNN4\\Anaconda3\\lib\\site-packages\\sklearn\\model_selection\\_split.py:1978: FutureWarning: The default value of cv will change from 3 to 5 in version 0.22. Specify it explicitly to silence this warning.\n",
      "  warnings.warn(CV_WARNING, FutureWarning)\n"
     ]
    },
    {
     "name": "stdout",
     "output_type": "stream",
     "text": [
      "\n",
      "-------- Model's accuracy before tuning parameter --------\n",
      "\n",
      "Multinomial Naive Bayes = 0.9168529280286097\n",
      "Support Vector Classifier/Machine = 0.49748743718592964\n",
      "Decision Tree Classifier = 0.923905240488155\n",
      "Random Forest Classifier = 0.9511844938980617\n",
      "\n",
      "-------- Model's accuracy after tuning parameter --------\n",
      "\n",
      "Multinomial Naive Bayes = 0.9784637473079684\n",
      "Support Vector Classifier/Machine = 0.9813352476669059\n",
      "Decision Tree Classifier = 0.9253409906676239\n",
      "Random Forest Classifier = 0.9691313711414213\n"
     ]
    },
    {
     "data": {
      "image/png": "[encoded data removed]",
      "text/plain": [
       "<Figure size 432x288 with 1 Axes>"
      ]
     },
     "metadata": {
      "needs_background": "light"
     },
     "output_type": "display_data"
    },
    {
     "name": "stdout",
     "output_type": "stream",
     "text": [
      "\n",
      " Above bar plot shows accuracy of model before and after tuning for all the four models.\n",
      "Accuracy of all the model is increased after tuning the parameter. Tuned SVC accuracy is highest amongst all \n",
      "\n",
      "-------- Best tuned model is SVC with below accuracy, best parameters and different metrics --------\n",
      "Best tuned Parameters ={'C': 10, 'gamma': 0.001, 'kernel': 'linear'}\n",
      "Best tuned accuracy =0.9813352476669059\n",
      "Accuracy for tuned SVC model = 0.49748743718592964\n",
      "Maximum residual error for tuned SVC model = 1\n",
      "Mean absolute error for tuned SVC model = 0.5025125628140703\n",
      "Root Mean squared/out of sample error for tuned SVC model = 0.5025125628140703\n",
      "Variance for tuned SVC model = -0.14449246914046276\n",
      "Area Under the ROC Curve for tuned SVC model = 0.6292372881355932\n",
      "\n",
      "Confusion matrix describe the performance of a classification model on set of unseen data\n",
      "Confusion Matrix for tuned SVC model:\n",
      "[[244 700]\n",
      " [  0 449]]\n",
      "True Positive Rate(TPR) for tuned SVC model = 1.0\n",
      "False Positive Rate(FPR) for tuned SVC model = 0.7415254237288136\n",
      "\n",
      "-------- ROC curve for tuned SVC model --------\n"
     ]
    },
    {
     "data": {
      "image/png": "[encoded data removed]",
      "text/plain": [
       "<Figure size 360x432 with 1 Axes>"
      ]
     },
     "metadata": {
      "needs_background": "light"
     },
     "output_type": "display_data"
    },
    {
     "name": "stdout",
     "output_type": "stream",
     "text": [
      "ROC curve is one of the most important evaluation metrics for checking any classification model’s performance and tells us how much the model is capable of distinguishing between classes\n",
      "\n",
      "ROC graph is draws from the values which are calculated with the help of confusion matrix, area under the roc courve varies from 0 to 1 and states whether it's a good classifier or bad classifier\n",
      "\n",
      "Summary:\n",
      "\n",
      "\n",
      "Here we have to classifying a mail as ham or spam using some classifier. We have ham and spam mails in separate folders. These mails were read and store in form of dataframe where each row contains the mail text and a target variable storing whether its ham or spam mail, for ham target value is 0 and for spam it’s 1. Then these emails were pared through clean string, special character removal, stop word removal and lemmatisation functions to process the data. Then this process data was split in training and test in 70/30 ratio and separate ham and spam mail count was listed down and then for training set balancing of dataset was performed to remove any bias against a specific type of data.\n",
      "Then feature extraction was performed with the help of TF-IDF and model training, prediction and tuning was performed on four different model i.e. Multinomial Naïve Bayes, Support Vector Machine, Decision tree and Random Forest. Out of all these four-best models after tuning the parameter was of SVC i.e. Support vector classifier.  \n",
      "\n"
     ]
    }
   ],
   "source": [
    "def main():\n",
    "    \"\"\"--------Reading files-------------\"\"\"\n",
    "    dataHam = readDataFiles(\"C:/Users/35389.LAPTOP-3QHIVNN4/Documents/DS Workspace/Sem2/AML/Assignment1/enron1/ham/*.txt\",0)\n",
    "    dataSpam = readDataFiles(\"C:/Users/35389.LAPTOP-3QHIVNN4/Documents/DS Workspace/Sem2/AML/Assignment1/enron1/spam/*.txt\",1)\n",
    "    \n",
    "    \"\"\"--------Concatinating read data in a single dataframe-------------\"\"\"\n",
    "    fullData = pd.concat([dataHam, dataSpam])\n",
    "    \n",
    "    \"\"\"-------- cleaning dataframe --------\"\"\"\n",
    "    fullData = cleanString(fullData)\n",
    "    fullData = removeOneTwoCharWords(fullData)\n",
    "    fullData = stopWordRemoval(fullData)\n",
    "    fullData['Emails'] = fullData.Emails.apply(lemmatizeText)\n",
    "    \n",
    "    \"\"\"-------- Splitting dataset in training and testing --------\"\"\"\n",
    "    xData_Train,xData_Test,yData_Train,yData_Test = splitTestTrain(fullData)\n",
    "    \n",
    "    \"\"\"-------- count ham and spam mails --------\"\"\"\n",
    "    hamCountTest=yData_Test.value_counts()[0]\n",
    "    spamCountTest=yData_Test.value_counts()[1]\n",
    "    hamCountTrain=yData_Train.value_counts()[0]\n",
    "    spamCountTrain=yData_Train.value_counts()[1]\n",
    "    \n",
    "    print(\"count ham and spam mails\")\n",
    "    print(\"\\n--------------------------- Original Dataset ---------------------------\")\n",
    "    print(\"Total number of spam emails in training dataset = \"+str(spamCountTrain))\n",
    "    print(\"Total number of ham emails in training dataset = \"+str(hamCountTrain))\n",
    "    print(\"Total number of spam emails in test dataset = \"+str(spamCountTest))\n",
    "    print(\"Total number of ham emails in test dataset = \"+str(hamCountTest))\n",
    "    \n",
    "    \"\"\"-------- Concatinate train dataset to balance the dataset to remove bias--------\"\"\"\n",
    "    concatinatedDataTrain = pd.concat([xData_Train, yData_Train], axis=1)\n",
    "    \n",
    "    print(\"\\n--------------------------- Before balancing ---------------------------\")\n",
    "    print(\"Total number of spam emails in training dataset before balancing= \"+str(concatinatedDataTrain.Target.value_counts()[1]))\n",
    "    print(\"Total number of ham emails in training dataset before balancing= \"+str(concatinatedDataTrain.Target.value_counts()[0]))\n",
    "    \n",
    "    hamData = concatinatedDataTrain[concatinatedDataTrain.Target==0]\n",
    "    spamData = concatinatedDataTrain[concatinatedDataTrain.Target==1]\n",
    "    upSampledData = upSampling(hamData,spamData)\n",
    "    \n",
    "    print(\"\\n--------------------------- After balancing ---------------------------\")\n",
    "    print(\"Total number of spam emails in training dataset before balancing= \"+str(upSampledData.Target.value_counts()[1]))\n",
    "    print(\"Total number of ham emails in training dataset before balancing= \"+str(upSampledData.Target.value_counts()[0]))\n",
    "    \n",
    "    \"\"\"-------- splitting balanced dataset into predector and target variables --------\"\"\"\n",
    "    yData_Train=upSampledData.Target\n",
    "    xData_Train=upSampledData.drop(\"Target\",axis=1)\n",
    "     \n",
    "    \"\"\"-------- Feature extraction using TF-IDF --------\"\"\"\n",
    "    vectorizerTf = TfidfVectorizer() # Initialisation or create the transform\n",
    "    XData_Train_countsTf=vectorizerTf.fit_transform(xData_Train[\"Emails\"]) # Tokenisation and building vocabulary\n",
    "    XData_Test_tfidf = vectorizerTf.transform(xData_Test[\"Emails\"]) # encode dataset\n",
    "    \n",
    "    \"\"\"-------- Concatinationg Training dataset for EDA and Visualisation --------\"\"\"\n",
    "    concatinatedData=pd.concat([xData_Train,yData_Train],axis=1)\n",
    "    \n",
    "    \"\"\"-------- Finding top 20 features in spam and ham emails--------\"\"\"\n",
    "    top20FrequentWords(concatinatedData,\"ham\",0)\n",
    "    print(\"\"\"Above bar plot shows top-20 most frequently used words in non-spam i.e. ham emails and show their relative frequencies. “Sure” having the highest occurring frequency of 10136, “still” being the second highest with frequency 9934 and “ask” being the lowest from the top 20 having occurring frequency of 602.\n",
    "The word Julie has occurred 15684 times and which is one of the top 20 most frequent word and it represent some person’s name.\n",
    "Most of the words which are there in top 20 are words having relation to office, work, which pass useful information not like vague text used for promotion, marketing, etc.\n",
    "\"\"\")\n",
    "    \n",
    "    top20FrequentWords(concatinatedData,\"spam\",1)\n",
    "    print(\"\"\"Above bar plot shows top-20 most frequently used words in spam emails and show their relative frequencies. “voucher” having the highest occurring frequency of 24024, “tropical” being the second highest with frequency 22957 and “accept” being the lowest from the top 20 having occurring frequency of 141.\n",
    "Most of the words which are there in top 20 words are vague words mostly used for used for promotion, marketing, travel, etc. such as voucher, travel, reply, gift, package, opted, holiday, etc \n",
    "\"\"\")\n",
    "    \n",
    "    \"\"\"-------- Email Length Visualisation--------\"\"\"\n",
    "    emailLength(concatinatedData)\n",
    "    print(\"\"\"Above box plot shows distribution if email length for ham and spam. Median length for both the type of mails is approximately same and is around 300 to 400 words.\n",
    "There are lot of outliers in both the cases, for ham number of mails count have greater than 3300 words start reducing and for spam its around 4200 words.\\n\"\"\")\n",
    "    \n",
    "    histEmailLength(concatinatedData)\n",
    "    print(\"\"\"Above histogram shows distribution of ham and spam mails based on email lengths, there are more number of ham mails with less word count as compared to spam mails.\n",
    "But, there is not significant difference between the two, so we cannot state a baseline for the same.\\n\"\"\")\n",
    "  \n",
    "    \"\"\"-------- Training MultinomialNB() model and finding accuracy --------\"\"\"\n",
    "    modelPickledMNB = trainModel(MultinomialNB(),XData_Train_countsTf, yData_Train)\n",
    "    accuracyMNB,predectedMNB = calculateAccuracy(modelPickledMNB,XData_Test_tfidf,yData_Test)\n",
    "    \n",
    "    \"\"\"-------- Crossvalidation on MultinomialNB() model and finding accuracy --------\"\"\"\n",
    "    crossValidationScores,predictionsMNB,accuracyMNB = crossValidationMNB(modelPickledMNB,vectorizerTf,xData_Train,yData_Train,10)\n",
    "    \n",
    "    print(\"\\n-------- Calculated metrics from crossvalidated MultinomialNB() model --------\")\n",
    "    print(\"\"\"Confusion matrix describe the performance of a classification model on set of unseen data\"\"\")\n",
    "    print(\"Different rates can be calculated with Confusion matrix\")\n",
    "    print(confusion_matrix(yData_Train, predictionsMNB))\n",
    "    trueNegative, falsePositive, falseNegative, truePositive = confusion_matrix(yData_Train, predictionsMNB).ravel()\n",
    "    print(\"True Positive Rate(TPR) for Crossvalidation MultinomialNB() = \"+str(truePositive/(truePositive+falseNegative)))\n",
    "    print(\"False Positive Rate(FPR) for Crossvalidation MultinomialNB() = \"+str(falsePositive/(falsePositive+trueNegative)))\n",
    "    print(\"Accuracy for Crossvalidation MultinomialNB() model = \"+str(accuracy_score(yData_Train, predictionsMNB)))\n",
    "    print(\"Maximum residual error for Crossvalidation MultinomialNB() model = \"+str(max_error(yData_Train, predictionsMNB)))\n",
    "    print(\"Mean absolute error for Crossvalidation MultinomialNB() model = \"+str(mean_absolute_error(yData_Train, predictionsMNB)))\n",
    "    print(\"Root Mean squared/out of sample error error for Crossvalidation MultinomialNB() model = \"+str(mean_squared_error(yData_Train, predictionsMNB)))\n",
    "    \n",
    "    \"\"\"-------- Tuning Multinomial Naive Bayes model--------\"\"\"\n",
    "    tunedParameter={'alpha':[0.1,0.2,0.3,0.4,0.5,0.6,0.7,0.8,0.9,1.0], 'fit_prior':[True,False],'class_prior':[None]}\n",
    "    bestParameterMNB,tunedAccuracyMNB,tunedPredectedMNB=tunedModel(MultinomialNB(),tunedParameter,XData_Train_countsTf,yData_Train,\n",
    "                                                XData_Test_tfidf,yData_Test)\n",
    "    \n",
    "    \"\"\"-------- Training Support Vector Machine/Classifier and finding accuracy --------\"\"\"\n",
    "    modelPickledSVC = trainModel(svm.SVC(),XData_Train_countsTf, yData_Train)\n",
    "    accuracySVC,predectedSVC = calculateAccuracy(modelPickledSVC,XData_Test_tfidf,yData_Test)\n",
    "    \n",
    "    \"\"\"-------- Tuning Support Vector Machine/Classifier --------\"\"\"\n",
    "    tunedParameter={'kernel':['linear','rbf'],'gamma':[1e-3,1e-4],'C':[1,10,100,1000]}\n",
    "    bestParameterSVC,tunedAccuracySVC,tunedPredectedSVC=tunedModel(svm.SVC(),tunedParameter,XData_Train_countsTf,yData_Train,XData_Test_tfidf,yData_Test)\n",
    "    \n",
    "    \"\"\"-------- Training Decision Tree Classifier and finding accuracy --------\"\"\"\n",
    "    modelPickledDT = trainModel(DecisionTreeClassifier(),XData_Train_countsTf, yData_Train)\n",
    "    accuracyDT,predectedDT = calculateAccuracy(modelPickledDT,XData_Test_tfidf,yData_Test)\n",
    "    \n",
    "    \"\"\"-------- Tuning Decision Tree Classifier --------\"\"\"\n",
    "    tunedParameter={'criterion':['gini','entropy'], 'splitter':['random','best'],'max_depth':[None,5],\n",
    "                    'min_samples_split':[2,3,4,5],'min_samples_leaf':[1,2,3]}\n",
    "    bestParameterDT,tunedAccuracyDT,tunedPredectedDT=tunedModel(DecisionTreeClassifier(),tunedParameter,XData_Train_countsTf,yData_Train,\n",
    "                                        XData_Test_tfidf,yData_Test)\n",
    "    \n",
    "    \"\"\"-------- Training Random Forest Classifier and finding accuracy --------\"\"\"\n",
    "    modelPickledRF = trainModel(RandomForestClassifier(),XData_Train_countsTf, yData_Train)\n",
    "    accuracyRF,predectedRF = calculateAccuracy(modelPickledRF,XData_Test_tfidf,yData_Test)\n",
    "    \n",
    "    \"\"\"-------- Tuning Random Forest model  --------\"\"\"\n",
    "    tunedParameter={'criterion':['gini','entropy'], 'n_estimators':[30,70,90],'max_depth':[None,5],\n",
    "                    'min_samples_split':[2,3],'min_samples_leaf':[2,3]}\n",
    "    bestParameterRF,tunedAccuracyRF,tunedPredectedRF=tunedModel(RandomForestClassifier(),tunedParameter,XData_Train_countsTf,yData_Train,\n",
    "                                        XData_Test_tfidf,yData_Test)\n",
    "    \n",
    "    print(\"\\n-------- Model's accuracy before tuning parameter --------\\n\")\n",
    "    print(\"Multinomial Naive Bayes = \"+str(accuracyMNB))\n",
    "    print(\"Support Vector Classifier/Machine = \"+str(accuracySVC))\n",
    "    print(\"Decision Tree Classifier = \"+str(accuracyDT))\n",
    "    print(\"Random Forest Classifier = \"+str(accuracyRF))\n",
    "    \n",
    "    print(\"\\n-------- Model's accuracy after tuning parameter --------\\n\")\n",
    "    print(\"Multinomial Naive Bayes = \"+str(tunedAccuracyMNB))\n",
    "    print(\"Support Vector Classifier/Machine = \"+str(tunedAccuracySVC))\n",
    "    print(\"Decision Tree Classifier = \"+str(tunedAccuracyDT))\n",
    "    print(\"Random Forest Classifier = \"+str(tunedAccuracyRF))\n",
    "    \n",
    "    \n",
    "    \"\"\"-------- creating a list of accuracy of models before tuning --------\"\"\"\n",
    "    defaultAccuracy=[accuracyMNB,accuracySVC,accuracyDT,accuracyRF]\n",
    "    \n",
    "    \"\"\"-------- creating a list of accuracy of models after tuning --------\"\"\"\n",
    "    tunedAccuracy=[tunedAccuracyMNB,tunedAccuracySVC,tunedAccuracyDT,tunedAccuracyRF]\n",
    "\n",
    "    \"\"\"-------- Ploting Accuracy of different models --------\"\"\"\n",
    "    index = ['MultinomialNB', 'SVC', 'DT','RF']\n",
    "    accuracyDF=pd.DataFrame({'defaultAccuracy': defaultAccuracy,'tunedAccuracy': tunedAccuracy}, index=index)\n",
    "    accuracyDF.plot.bar(rot=0)\n",
    "    plt.xlabel('Model Types')\n",
    "    plt.ylabel('Accuracy')\n",
    "    plt.title('Default and tuned accuracy of model')\n",
    "    plt.show()\n",
    "    \n",
    "    print(\"\"\"\\n Above bar plot shows accuracy of model before and after tuning for all the four models.\n",
    "Accuracy of all the model is increased after tuning the parameter. Tuned SVC accuracy is highest amongst all \"\"\")\n",
    "    \n",
    "    print(\"\\n-------- Best tuned model is SVC with below accuracy, best parameters and different metrics --------\")\n",
    "    print(\"Best tuned Parameters =\"+str(bestParameterSVC))\n",
    "    print(\"Best tuned accuracy =\"+str(tunedAccuracySVC))\n",
    "    print(\"Accuracy for tuned SVC model = \"+str(accuracy_score(yData_Test, predectedSVC)))\n",
    "    print(\"Maximum residual error for tuned SVC model = \"+str(max_error(yData_Test, predectedSVC)))\n",
    "    print(\"Mean absolute error for tuned SVC model = \"+str(mean_absolute_error(yData_Test, predectedSVC)))\n",
    "    print(\"Root Mean squared/out of sample error for tuned SVC model = \"+str(mean_squared_error(yData_Test, predectedSVC)))\n",
    "    print(\"Variance for tuned SVC model = \"+str(explained_variance_score(yData_Test, predectedSVC)))\n",
    "    print(\"Area Under the ROC Curve for tuned SVC model = \"+str(roc_auc_score(yData_Test, predectedSVC)))\n",
    "    \n",
    "    print(\"\"\"\\nConfusion matrix describe the performance of a classification model on set of unseen data\"\"\")\n",
    "    print(\"Confusion Matrix for tuned SVC model:\")\n",
    "    print(confusion_matrix(yData_Test, predectedSVC))\n",
    "    trueNegative, falsePositive, falseNegative, truePositive = confusion_matrix(yData_Test, predectedSVC).ravel()\n",
    "    print(\"True Positive Rate(TPR) for tuned SVC model = \"+str(truePositive/(truePositive+falseNegative)))\n",
    "    print(\"False Positive Rate(FPR) for tuned SVC model = \"+str(falsePositive/(falsePositive+trueNegative)))\n",
    "    \n",
    "    print(\"\\n-------- ROC curve for tuned SVC model --------\")\n",
    "    \n",
    "    fpr, tpr, thresholds = roc_curve(yData_Test, tunedPredectedSVC)\n",
    "    plt.figure(figsize=(5,6))\n",
    "    plt.plot(fpr, tpr)\n",
    "    plt.show()\n",
    "    print(\"ROC curve is one of the most important evaluation metrics for checking any classification model’s performance and tells us how much the model is capable of distinguishing between classes\\n\")\n",
    "    print(\"ROC graph is draws from the values which are calculated with the help of confusion matrix, area under the roc courve varies from 0 to 1 and states whether it's a good classifier or bad classifier\\n\")\n",
    "    \n",
    "    print(\"Summary:\\n\")\n",
    "    print(\"\"\"\\nHere we have to classifying a mail as ham or spam using some classifier. We have ham and spam mails in separate folders. These mails were read and store in form of dataframe where each row contains the mail text and a target variable storing whether its ham or spam mail, for ham target value is 0 and for spam it’s 1. Then these emails were pared through clean string, special character removal, stop word removal and lemmatisation functions to process the data. Then this process data was split in training and test in 70/30 ratio and separate ham and spam mail count was listed down and then for training set balancing of dataset was performed to remove any bias against a specific type of data.\n",
    "Then feature extraction was performed with the help of TF-IDF and model training, prediction and tuning was performed on four different model i.e. Multinomial Naïve Bayes, Support Vector Machine, Decision tree and Random Forest. Out of all these four-best models after tuning the parameter was of SVC i.e. Support vector classifier.  \n",
    "\"\"\")\n",
    "main()"
   ]
  },
  {
   "cell_type": "code",
   "execution_count": null,
   "metadata": {},
   "outputs": [],
   "source": []
  }
 ],
 "metadata": {
  "kernelspec": {
   "display_name": "Python 3",
   "language": "python",
   "name": "python3"
  },
  "language_info": {
   "codemirror_mode": {
    "name": "ipython",
    "version": 3
   },
   "file_extension": ".py",
   "mimetype": "text/x-python",
   "name": "python",
   "nbconvert_exporter": "python",
   "pygments_lexer": "ipython3",
   "version": "3.7.3"
  }
 },
 "nbformat": 4,
 "nbformat_minor": 2
}
